{
 "cells": [
  {
   "attachments": {},
   "cell_type": "markdown",
   "metadata": {},
   "source": [
    "Least Squares Method to find the degree and coefficients of the polynomial that fits the data best"
   ]
  },
  {
   "cell_type": "code",
   "execution_count": 1,
   "metadata": {},
   "outputs": [],
   "source": [
    "\n",
    "import numpy as np\n",
    "import pandas as pd\n",
    "import matplotlib.pyplot as plt\n",
    "from sklearn.model_selection import train_test_split\n",
    "from sklearn.metrics import mean_squared_error\n",
    "from numpy import polyfit"
   ]
  },
  {
   "cell_type": "code",
   "execution_count": 2,
   "metadata": {},
   "outputs": [
    {
     "data": {
      "text/html": [
       "<div>\n",
       "<style scoped>\n",
       "    .dataframe tbody tr th:only-of-type {\n",
       "        vertical-align: middle;\n",
       "    }\n",
       "\n",
       "    .dataframe tbody tr th {\n",
       "        vertical-align: top;\n",
       "    }\n",
       "\n",
       "    .dataframe thead th {\n",
       "        text-align: right;\n",
       "    }\n",
       "</style>\n",
       "<table border=\"1\" class=\"dataframe\">\n",
       "  <thead>\n",
       "    <tr style=\"text-align: right;\">\n",
       "      <th></th>\n",
       "      <th>Salaries</th>\n",
       "      <th>Overtime</th>\n",
       "      <th>Other Salaries</th>\n",
       "      <th>Total Salary</th>\n",
       "      <th>Retirement</th>\n",
       "      <th>Health/Dental</th>\n",
       "      <th>Other Benefits</th>\n",
       "      <th>Total Benefits</th>\n",
       "      <th>Total Compensation</th>\n",
       "    </tr>\n",
       "  </thead>\n",
       "  <tbody>\n",
       "    <tr>\n",
       "      <th>0</th>\n",
       "      <td>82146.04</td>\n",
       "      <td>0.00</td>\n",
       "      <td>0.00</td>\n",
       "      <td>82146.04</td>\n",
       "      <td>16942.21</td>\n",
       "      <td>12340.88</td>\n",
       "      <td>6337.73</td>\n",
       "      <td>35620.82</td>\n",
       "      <td>117766.86</td>\n",
       "    </tr>\n",
       "    <tr>\n",
       "      <th>1</th>\n",
       "      <td>32165.75</td>\n",
       "      <td>973.19</td>\n",
       "      <td>848.96</td>\n",
       "      <td>33987.90</td>\n",
       "      <td>0.00</td>\n",
       "      <td>4587.51</td>\n",
       "      <td>2634.42</td>\n",
       "      <td>7221.93</td>\n",
       "      <td>41209.83</td>\n",
       "    </tr>\n",
       "    <tr>\n",
       "      <th>2</th>\n",
       "      <td>71311.00</td>\n",
       "      <td>5757.98</td>\n",
       "      <td>0.00</td>\n",
       "      <td>77068.98</td>\n",
       "      <td>14697.59</td>\n",
       "      <td>12424.50</td>\n",
       "      <td>6370.06</td>\n",
       "      <td>33492.15</td>\n",
       "      <td>110561.13</td>\n",
       "    </tr>\n",
       "    <tr>\n",
       "      <th>3</th>\n",
       "      <td>28430.25</td>\n",
       "      <td>0.00</td>\n",
       "      <td>763.07</td>\n",
       "      <td>29193.32</td>\n",
       "      <td>0.00</td>\n",
       "      <td>4223.14</td>\n",
       "      <td>5208.51</td>\n",
       "      <td>9431.65</td>\n",
       "      <td>38624.97</td>\n",
       "    </tr>\n",
       "    <tr>\n",
       "      <th>7</th>\n",
       "      <td>66988.54</td>\n",
       "      <td>3512.88</td>\n",
       "      <td>2770.39</td>\n",
       "      <td>73271.81</td>\n",
       "      <td>19127.22</td>\n",
       "      <td>13202.95</td>\n",
       "      <td>5455.10</td>\n",
       "      <td>37785.27</td>\n",
       "      <td>111057.08</td>\n",
       "    </tr>\n",
       "    <tr>\n",
       "      <th>...</th>\n",
       "      <td>...</td>\n",
       "      <td>...</td>\n",
       "      <td>...</td>\n",
       "      <td>...</td>\n",
       "      <td>...</td>\n",
       "      <td>...</td>\n",
       "      <td>...</td>\n",
       "      <td>...</td>\n",
       "      <td>...</td>\n",
       "    </tr>\n",
       "    <tr>\n",
       "      <th>42981</th>\n",
       "      <td>76728.01</td>\n",
       "      <td>0.00</td>\n",
       "      <td>824.00</td>\n",
       "      <td>77552.01</td>\n",
       "      <td>15942.80</td>\n",
       "      <td>12424.50</td>\n",
       "      <td>6368.85</td>\n",
       "      <td>34736.15</td>\n",
       "      <td>112288.16</td>\n",
       "    </tr>\n",
       "    <tr>\n",
       "      <th>42983</th>\n",
       "      <td>42793.30</td>\n",
       "      <td>0.00</td>\n",
       "      <td>0.00</td>\n",
       "      <td>42793.30</td>\n",
       "      <td>8506.93</td>\n",
       "      <td>6731.93</td>\n",
       "      <td>3317.55</td>\n",
       "      <td>18556.41</td>\n",
       "      <td>61349.71</td>\n",
       "    </tr>\n",
       "    <tr>\n",
       "      <th>42984</th>\n",
       "      <td>80691.52</td>\n",
       "      <td>11865.91</td>\n",
       "      <td>3290.29</td>\n",
       "      <td>95847.72</td>\n",
       "      <td>16909.07</td>\n",
       "      <td>12244.02</td>\n",
       "      <td>7788.00</td>\n",
       "      <td>36941.09</td>\n",
       "      <td>132788.81</td>\n",
       "    </tr>\n",
       "    <tr>\n",
       "      <th>42986</th>\n",
       "      <td>48843.58</td>\n",
       "      <td>2965.85</td>\n",
       "      <td>3316.21</td>\n",
       "      <td>55125.64</td>\n",
       "      <td>11047.55</td>\n",
       "      <td>6212.24</td>\n",
       "      <td>910.16</td>\n",
       "      <td>18169.95</td>\n",
       "      <td>73295.59</td>\n",
       "    </tr>\n",
       "    <tr>\n",
       "      <th>42988</th>\n",
       "      <td>34267.20</td>\n",
       "      <td>344.85</td>\n",
       "      <td>1256.89</td>\n",
       "      <td>35868.94</td>\n",
       "      <td>8643.54</td>\n",
       "      <td>8458.22</td>\n",
       "      <td>2842.20</td>\n",
       "      <td>19943.96</td>\n",
       "      <td>55812.90</td>\n",
       "    </tr>\n",
       "  </tbody>\n",
       "</table>\n",
       "<p>31934 rows × 9 columns</p>\n",
       "</div>"
      ],
      "text/plain": [
       "       Salaries  Overtime  Other Salaries  Total Salary  Retirement  \\\n",
       "0      82146.04      0.00            0.00      82146.04    16942.21   \n",
       "1      32165.75    973.19          848.96      33987.90        0.00   \n",
       "2      71311.00   5757.98            0.00      77068.98    14697.59   \n",
       "3      28430.25      0.00          763.07      29193.32        0.00   \n",
       "7      66988.54   3512.88         2770.39      73271.81    19127.22   \n",
       "...         ...       ...             ...           ...         ...   \n",
       "42981  76728.01      0.00          824.00      77552.01    15942.80   \n",
       "42983  42793.30      0.00            0.00      42793.30     8506.93   \n",
       "42984  80691.52  11865.91         3290.29      95847.72    16909.07   \n",
       "42986  48843.58   2965.85         3316.21      55125.64    11047.55   \n",
       "42988  34267.20    344.85         1256.89      35868.94     8643.54   \n",
       "\n",
       "       Health/Dental  Other Benefits  Total Benefits  Total Compensation  \n",
       "0           12340.88         6337.73        35620.82           117766.86  \n",
       "1            4587.51         2634.42         7221.93            41209.83  \n",
       "2           12424.50         6370.06        33492.15           110561.13  \n",
       "3            4223.14         5208.51         9431.65            38624.97  \n",
       "7           13202.95         5455.10        37785.27           111057.08  \n",
       "...              ...             ...             ...                 ...  \n",
       "42981       12424.50         6368.85        34736.15           112288.16  \n",
       "42983        6731.93         3317.55        18556.41            61349.71  \n",
       "42984       12244.02         7788.00        36941.09           132788.81  \n",
       "42986        6212.24          910.16        18169.95            73295.59  \n",
       "42988        8458.22         2842.20        19943.96            55812.90  \n",
       "\n",
       "[31934 rows x 9 columns]"
      ]
     },
     "execution_count": 2,
     "metadata": {},
     "output_type": "execute_result"
    }
   ],
   "source": [
    "\n",
    "df = pd.read_csv('san_francisco_2015.csv')\n",
    "df = df.drop(['Year Type', 'Year', 'Organization Group Code', 'Organization Group', 'Department Code', 'Department',\n",
    "              'Union Code', 'Union', 'Job Family Code', 'Job Family', 'Job Code', 'Job', 'Employee Identifier'], axis=1)\n",
    "df = df.loc[ (20000 < df['Salaries']) & (df['Salaries'] < 150000) ]\n",
    "df"
   ]
  },
  {
   "cell_type": "code",
   "execution_count": 3,
   "metadata": {},
   "outputs": [
    {
     "data": {
      "text/plain": [
       "array([[ 1.  ,  0.25,  0.33,  0.92,  0.91,  0.58,  0.48,  0.87,  0.94],\n",
       "       [ 0.25,  1.  ,  0.37,  0.58,  0.32,  0.26, -0.05,  0.26,  0.52],\n",
       "       [ 0.33,  0.37,  1.  ,  0.55,  0.36,  0.11, -0.07,  0.24,  0.5 ],\n",
       "       [ 0.92,  0.58,  0.55,  1.  ,  0.88,  0.56,  0.35,  0.81,  0.99],\n",
       "       [ 0.91,  0.32,  0.36,  0.88,  1.  ,  0.69,  0.42,  0.94,  0.92],\n",
       "       [ 0.58,  0.26,  0.11,  0.56,  0.69,  1.  ,  0.31,  0.8 ,  0.63],\n",
       "       [ 0.48, -0.05, -0.07,  0.35,  0.42,  0.31,  1.  ,  0.64,  0.43],\n",
       "       [ 0.87,  0.26,  0.24,  0.81,  0.94,  0.8 ,  0.64,  1.  ,  0.88],\n",
       "       [ 0.94,  0.52,  0.5 ,  0.99,  0.92,  0.63,  0.43,  0.88,  1.  ]])"
      ]
     },
     "execution_count": 3,
     "metadata": {},
     "output_type": "execute_result"
    }
   ],
   "source": [
    "\n",
    "r = np.corrcoef((df['Salaries'],\n",
    "                df['Overtime'],\n",
    "                df['Other Salaries'],\n",
    "                df['Total Salary'],\n",
    "                df['Retirement'],\n",
    "                df['Health/Dental'],\n",
    "                df['Other Benefits'],\n",
    "                df['Total Benefits'],\n",
    "                df['Total Compensation'])\n",
    "                )\n",
    "r = np.round(r, 2)\n",
    "r"
   ]
  },
  {
   "cell_type": "code",
   "execution_count": 4,
   "metadata": {},
   "outputs": [],
   "source": [
    "\n",
    "data = df.sample(600, replace=False, random_state=42)"
   ]
  },
  {
   "cell_type": "code",
   "execution_count": 5,
   "metadata": {},
   "outputs": [],
   "source": [
    "\n",
    "column_x = 'Total Benefits'\n",
    "column_y = 'Total Compensation'"
   ]
  },
  {
   "cell_type": "code",
   "execution_count": 6,
   "metadata": {},
   "outputs": [],
   "source": [
    "\n",
    "x = data[column_x].to_numpy()\n",
    "y = data[column_y].to_numpy()"
   ]
  },
  {
   "cell_type": "code",
   "execution_count": 7,
   "metadata": {},
   "outputs": [
    {
     "data": {
      "text/plain": [
       "<matplotlib.collections.PathCollection at 0x259fbc23580>"
      ]
     },
     "execution_count": 7,
     "metadata": {},
     "output_type": "execute_result"
    },
    {
     "data": {
      "image/png": "[encoded data removed]",
      "text/plain": [
       "<Figure size 640x480 with 1 Axes>"
      ]
     },
     "metadata": {},
     "output_type": "display_data"
    }
   ],
   "source": [
    "\n",
    "plt.scatter(x, y)"
   ]
  },
  {
   "cell_type": "code",
   "execution_count": 8,
   "metadata": {},
   "outputs": [
    {
     "data": {
      "text/plain": [
       "array([17846.62, 34465.59, 32047.23, 38659.69, 41991.91, 42947.42,\n",
       "       38951.05, 31309.43, 23850.44, 29844.49, 44208.04,  7292.73,\n",
       "       49801.22, 29037.35, 40069.93, 35249.65, 42438.86, 46556.74,\n",
       "       34882.98, 25418.11, 43909.06, 17188.31, 39293.12, 19985.05,\n",
       "       36955.82, 34476.18, 42198.49, 27723.34, 29474.83, 37916.69,\n",
       "       41100.9 , 15058.44, 37559.98, 39700.73, 24389.38, 37139.56,\n",
       "       57938.1 ,  9849.1 , 39088.54, 35241.81, 45245.01, 35629.11,\n",
       "       29635.05, 48200.02, 31046.78, 46263.93, 37083.14,  7531.67,\n",
       "       28928.16, 29876.26, 37609.72, 31493.72, 29860.95, 32466.7 ,\n",
       "       47897.95, 43351.84, 30949.65, 28893.74, 26808.13, 34490.52,\n",
       "       36476.4 , 30173.22, 22274.05, 46844.78, 33769.72, 42461.54,\n",
       "       29647.85, 38052.73, 39140.19, 13446.99, 45262.42, 36351.31,\n",
       "       37560.41, 39159.75, 36882.15, 41476.45, 23127.43])"
      ]
     },
     "execution_count": 8,
     "metadata": {},
     "output_type": "execute_result"
    }
   ],
   "source": [
    "\n",
    "x_train_full, x_test, y_train_full, y_test = train_test_split(x, y, test_size=0.15, random_state=42)\n",
    "x_train, x_val, y_train, y_val = train_test_split(x_train_full, y_train_full, test_size=0.15, random_state=42)\n",
    "x_val"
   ]
  },
  {
   "attachments": {},
   "cell_type": "markdown",
   "metadata": {},
   "source": [
    "In this assignment, you are going to use Least Squares Method to find the degree and coefficients of the polynomial that fits the data best."
   ]
  },
  {
   "cell_type": "code",
   "execution_count": 9,
   "metadata": {},
   "outputs": [],
   "source": [
    "\n",
    "degree = 6"
   ]
  },
  {
   "attachments": {},
   "cell_type": "markdown",
   "metadata": {},
   "source": [
    "\n",
    "Finding the coefficients of the degree-th (given above) order polynomial that fits (x_train, y_train) best (the one with lowest RMSE)"
   ]
  },
  {
   "cell_type": "code",
   "execution_count": 10,
   "metadata": {},
   "outputs": [
    {
     "data": {
      "text/plain": [
       "array([ 1.49545277e-22, -2.76207435e-17,  1.82706453e-12, -5.29043065e-08,\n",
       "        6.92588029e-04, -1.50804463e+00,  3.14667081e+04])"
      ]
     },
     "execution_count": 10,
     "metadata": {},
     "output_type": "execute_result"
    }
   ],
   "source": [
    "\n",
    "coefficients=polyfit(x_train,y_train,degree)\n",
    "coefficients"
   ]
  },
  {
   "attachments": {},
   "cell_type": "markdown",
   "metadata": {},
   "source": [
    "\n",
    "Finding the predictions of the polynomial found for x_val."
   ]
  },
  {
   "cell_type": "code",
   "execution_count": 11,
   "metadata": {},
   "outputs": [
    {
     "data": {
      "text/plain": [
       "array([ 64596.37016174, 121722.96649511, 108681.44850204, 146732.37229459,\n",
       "       166573.05093057, 171886.05191768, 148508.66549862, 105010.41789536,\n",
       "        77279.44566248,  98203.966304  , 178460.57966302,  41404.88625657,\n",
       "       198450.80990461,  94739.96017726, 155289.5406481 , 126230.21938779,\n",
       "       169089.00870198, 188954.13540283, 124108.11761779,  81727.14846072,\n",
       "       176952.40982555,  63401.3595647 , 150590.36445956,  68592.26232325,\n",
       "       136367.06626202, 121783.05774023, 167742.20987894,  89544.27459673,\n",
       "        96591.84823985, 142200.3199214 , 161421.6770234 ,  59462.10733049,\n",
       "       140028.84342562, 153062.23212496,  78735.8001413 , 137477.99962252,\n",
       "       191690.34359802,  48022.05791696, 149345.98819313, 126184.59898725,\n",
       "       183409.38731385, 128450.32171837,  97285.2772897 , 194580.06224423,\n",
       "       103741.9904625 , 187792.05709261, 137136.58840331,  42030.56035965,\n",
       "        94287.25392798,  98344.53013381, 140331.30932582, 105912.61067922,\n",
       "        98276.75261765, 110837.13296721, 193665.74990728, 174054.57200303,\n",
       "       103278.14472442,  94145.33537672,  86247.55717267, 121864.46395111,\n",
       "       133482.6664219 ,  99673.71947088,  73407.14193471, 190052.23012621,\n",
       "       117826.43972577, 169215.29764991,  97341.02594345, 143029.61077559,\n",
       "       149660.34241982,  56264.43019438, 183488.46357791, 132733.9973365 ,\n",
       "       140031.4577023 , 149779.35799956, 135922.42336288, 163612.80320281,\n",
       "        75435.74535526])"
      ]
     },
     "execution_count": 11,
     "metadata": {},
     "output_type": "execute_result"
    }
   ],
   "source": [
    "\n",
    "y_predictions=x_val.copy()\n",
    "for i in range(len(x_val)):\n",
    "    a=0\n",
    "    for m,j in enumerate(coefficients):\n",
    "        a+=j*(pow(y_predictions[i],degree-m))\n",
    "    y_predictions[i]=a\n",
    "y_predictions\n"
   ]
  },
  {
   "attachments": {},
   "cell_type": "markdown",
   "metadata": {},
   "source": [
    "\n",
    "Finding the Root Mean Squared Error (RMSE) of the predictions "
   ]
  },
  {
   "cell_type": "code",
   "execution_count": 12,
   "metadata": {},
   "outputs": [
    {
     "data": {
      "text/plain": [
       "23873.71233537657"
      ]
     },
     "execution_count": 12,
     "metadata": {},
     "output_type": "execute_result"
    }
   ],
   "source": [
    "\n",
    "RMSe=pow(mean_squared_error(y_val,y_predictions),1/2)\n",
    "RMSe\n"
   ]
  },
  {
   "cell_type": "code",
   "execution_count": 13,
   "metadata": {},
   "outputs": [],
   "source": [
    "\n",
    "max_degree = 12"
   ]
  },
  {
   "attachments": {},
   "cell_type": "markdown",
   "metadata": {},
   "source": [
    "\n",
    "Finding the best polynomial for each of degrees from 1 to max_degree (not included) and storing RMSE of each polynomial in an array named 'RMSEs'."
   ]
  },
  {
   "cell_type": "code",
   "execution_count": 14,
   "metadata": {},
   "outputs": [
    {
     "data": {
      "text/plain": [
       "[26254.839412109406,\n",
       " 24772.37708796177,\n",
       " 24090.542670392002,\n",
       " 23473.100658045212,\n",
       " 23671.414880911223,\n",
       " 23873.71233537657,\n",
       " 23869.679912909964,\n",
       " 23874.256926833004,\n",
       " 23888.643840254594,\n",
       " 24235.42609311812,\n",
       " 26467.73314251095]"
      ]
     },
     "execution_count": 14,
     "metadata": {},
     "output_type": "execute_result"
    }
   ],
   "source": [
    "\n",
    "RMSEs=[]\n",
    "for k in range(1,max_degree):\n",
    "    degree=k\n",
    "    coefficients=polyfit(x_train,y_train,degree)\n",
    "    y_predictions=x_val.copy()\n",
    "    for i in range(len(x_val)):\n",
    "        a=0\n",
    "        for m,j in enumerate(coefficients):\n",
    "            a+=j*(pow(y_predictions[i],degree-m))\n",
    "        y_predictions[i]=a\n",
    "    RMSe=pow(mean_squared_error(y_val,y_predictions),1/2)\n",
    "    RMSEs.append(RMSe)\n",
    "RMSEs"
   ]
  },
  {
   "cell_type": "code",
   "execution_count": 15,
   "metadata": {},
   "outputs": [
    {
     "data": {
      "text/plain": [
       "[<matplotlib.lines.Line2D at 0x259fbd7d1e0>]"
      ]
     },
     "execution_count": 15,
     "metadata": {},
     "output_type": "execute_result"
    },
    {
     "data": {
      "image/png": "[encoded data removed]",
      "text/plain": [
       "<Figure size 640x480 with 1 Axes>"
      ]
     },
     "metadata": {},
     "output_type": "display_data"
    }
   ],
   "source": [
    "\n",
    "plt.plot(np.arange(1,max_degree), RMSEs)"
   ]
  },
  {
   "attachments": {},
   "cell_type": "markdown",
   "metadata": {},
   "source": [
    "\n",
    "Determining the degree of best polynomial from 'RMSEs'."
   ]
  },
  {
   "cell_type": "code",
   "execution_count": 16,
   "metadata": {},
   "outputs": [
    {
     "data": {
      "text/plain": [
       "4"
      ]
     },
     "execution_count": 16,
     "metadata": {},
     "output_type": "execute_result"
    }
   ],
   "source": [
    "# Write your answer here\n",
    "best_degree=RMSEs.index(min(RMSEs))+1\n",
    "best_degree\n",
    "        \n"
   ]
  },
  {
   "attachments": {},
   "cell_type": "markdown",
   "metadata": {},
   "source": [
    "\n",
    "Finding the coefficients of the best_degree-th order polynpmial that fits (x_train_full, y_train_full) using the method 'polyfit'.  \n",
    "Finding the predictions of the polynomial found for x_test.  \n",
    "Finding the Root Mean Squared Error (RMSE) of the predictions found (true values=y_test)"
   ]
  },
  {
   "cell_type": "code",
   "execution_count": 17,
   "metadata": {},
   "outputs": [
    {
     "data": {
      "text/plain": [
       "21532.645612073935"
      ]
     },
     "execution_count": 17,
     "metadata": {},
     "output_type": "execute_result"
    }
   ],
   "source": [
    "# Write your answer here\n",
    "coefficients_full=polyfit(x_train_full,y_train_full,best_degree)\n",
    "full_y_predictions=x_test.copy()\n",
    "for i in range(len(x_test)):\n",
    "    a=0\n",
    "    for m,j in enumerate(coefficients_full):\n",
    "        a+=j*(pow(full_y_predictions[i],best_degree-m))\n",
    "    full_y_predictions[i]=a\n",
    "RMSe=pow(mean_squared_error(y_test,full_y_predictions),1/2)\n",
    "RMSe"
   ]
  }
 ],
 "metadata": {
  "kernelspec": {
   "display_name": "yap101",
   "language": "python",
   "name": "python3"
  },
  "language_info": {
   "codemirror_mode": {
    "name": "ipython",
    "version": 3
   },
   "file_extension": ".py",
   "mimetype": "text/x-python",
   "name": "python",
   "nbconvert_exporter": "python",
   "pygments_lexer": "ipython3",
   "version": "3.10.10"
  },
  "vscode": {
   "interpreter": {
    "hash": "8854a501c64857c166b3a43b75d3fa1b4635b10e546b49f8eb7a9a955f459670"
   }
  }
 },
 "nbformat": 4,
 "nbformat_minor": 1
}
